{
 "cells": [
  {
   "cell_type": "code",
   "execution_count": 2,
   "id": "29b890d2-6e11-4a6e-b13f-b98033c057be",
   "metadata": {},
   "outputs": [],
   "source": [
    "import pandas as pd\n",
    "from gwas_class import GwasData\n",
    "import MySQLdb"
   ]
  },
  {
   "cell_type": "code",
   "execution_count": 3,
   "id": "e3516fd8-6300-4bed-aaed-e3c1f8e0317e",
   "metadata": {},
   "outputs": [],
   "source": [
    "conn = MySQLdb.connect(user='dash_readonly', password='dashtest', host='ghsmfgwesdblx1v')\n",
    "t2d = GwasData('250_2', conn)"
   ]
  },
  {
   "cell_type": "code",
   "execution_count": 6,
   "id": "da4869e8-feed-413c-8aa6-e7123bb03cc0",
   "metadata": {},
   "outputs": [],
   "source": [
    "t2d.top_results.head().to_html('t2d_table.html')"
   ]
  },
  {
   "cell_type": "code",
   "execution_count": null,
   "id": "e639f797-2099-429d-be63-46d080e3e158",
   "metadata": {},
   "outputs": [],
   "source": []
  }
 ],
 "metadata": {
  "kernelspec": {
   "display_name": "DashEnv",
   "language": "python",
   "name": "dashenv"
  },
  "language_info": {
   "codemirror_mode": {
    "name": "ipython",
    "version": 3
   },
   "file_extension": ".py",
   "mimetype": "text/x-python",
   "name": "python",
   "nbconvert_exporter": "python",
   "pygments_lexer": "ipython3",
   "version": "3.9.1"
  }
 },
 "nbformat": 4,
 "nbformat_minor": 5
}
